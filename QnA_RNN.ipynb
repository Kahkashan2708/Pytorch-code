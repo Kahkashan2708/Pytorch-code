{
  "nbformat": 4,
  "nbformat_minor": 0,
  "metadata": {
    "colab": {
      "provenance": [],
      "authorship_tag": "ABX9TyNURmHB8Nc6mQVI+pm2XAGF",
      "include_colab_link": true
    },
    "kernelspec": {
      "name": "python3",
      "display_name": "Python 3"
    },
    "language_info": {
      "name": "python"
    }
  },
  "cells": [
    {
      "cell_type": "markdown",
      "metadata": {
        "id": "view-in-github",
        "colab_type": "text"
      },
      "source": [
        "<a href=\"https://colab.research.google.com/github/Kahkashan2708/Pytorch-code/blob/main/QnA_RNN.ipynb\" target=\"_parent\"><img src=\"https://colab.research.google.com/assets/colab-badge.svg\" alt=\"Open In Colab\"/></a>"
      ]
    },
    {
      "cell_type": "markdown",
      "source": [
        "# **Question-Answering Using RNN**\n",
        "---"
      ],
      "metadata": {
        "id": "kb6w1h_VHnTD"
      }
    },
    {
      "cell_type": "markdown",
      "source": [
        "## RNN Architecture"
      ],
      "metadata": {
        "id": "uOI2VfCKIVAB"
      }
    },
    {
      "cell_type": "markdown",
      "source": [
        "![Recurrent-Neural-Networks-RNN-5.webp](data:image/webp;base64,UklGRmwaAABXRUJQVlA4WAoAAAAIAAAArwEAAgEAVlA4IIwZAACQgQCdASqwAQMBPnU0l0gkoqKhJnFLMJAOiWVu/B23vtpzPJdd/PiaaXin9m5kdn70R/4Pp0+i/zAfxb/desX/3PVz/kPTg6ob+4epj50/q5f3PeAP//1v/nn9b/o/az/kPye7Bry97YcxuJx8k+x/5L+1e2P+Z/1Xhv8iNQL1V/iN6p1jzBfUr5//y/8N4uH9N6HfZb2AP5p/ZP81+bn97+e+9v/B/8z2Bv5r/cf9X7M383/2v8h+Xntl/N/8v/4P8f/o/kH/lv9g/5H+J9tb2HfuJ///cv/a///mSqYbAr9k3lLIP0eLl63w83KERqAhutk7///7Dn5/p7VLMyg589z6QAPAACUBCydWK2Gw2C6R/ncrvC8aOr3SAQsDsgrB6pn+qjHxdpVRSwhPSsUNM+nqfP/Y81vd7xjlW5vNmGZOoTc2++tBCe/cxTxY5zN5BTjIK0PRcE+uYSBfgKPX49EYqsCk01uKchuLaEgme30Itx7sv0CHLevBGd8EBRtqJ4+97hJMhbdlETFLxYgvN46hRHpSgurIunGR/pxV9mVSbkSvLBXch3BYnm7U5c4HWATyU2LxgWicCD33w6PKEs2fWjS+yZUrHXl0mQ8ci1xwhJPPzHWFd4mRYz0P3Uu/NY4K1krdVbS9amVOr5pbcGbFMdo7Ive74DaZ/FHb1zSi4SKodQvJGJC6Kf3sDlt5H1tayo30orR1i9GBDvIy8+xVEkkWmKQGSscXGDRAGGED13Cz5xm6IewMdDTcEpi+uA94+BCb7c+OdporpRDGmBFH7OSomfu+TDtswtE1sfWqekYoZpB0okBumkTFUr7YJx9GEP2JDkO98wclP3crZnYjU+0j8vUSGmaZmtQtO/wTjaBH59hpVRG89M2AIX7kgTs08KN2pd3aBLZBJWc/zg0uz0NP/6oLfIlfVGiu2ytGlPWDyE9PB1mElwsMg4wyJs+HZ3bb8OqbH2EBTIH4GHx5agpqdbiiFC9DkrwAxXY5hhRJzjuJEA3e8r45KyUydL/dG1Ksla6hvqqA20w2GkNeB0J3aDUn1wQLOOPDtWwHhrw+KzdG7dz7z84RS90HYYoKoxiuezxzQnfb0RCbGxUQBqqmJKwDY+9bxg1ZN9VXtAtdouUVSJe7gxQVyYjpHRLwFuGwOM6hJjK9VMWNqc+r+tX/xTzLaO5nkG3EyX7Pc3tOEOrKN3No5aHa5ELLt79ZGNrcxkqEbtphsNRoa8YxSY1PzVggP6yyelywwkDzT6W9VP1Y2NUzcBwrsKiJW95X7avO5mK6jNTpBh22cf5+e7DYIOsx/dXOtYZSQKnf3oUMIJHvymkftQznDkY5vrTxRbR8I1JqkpIyu9SRBigqMDcTF0RYcY1BJGJNe9VzyD4AAP7+loAcsgb8FQjMdw8LpL8YnxMJbRZi4Zp6dWja3e1LKzq74Poh44/cKcRRtVpo4E1TQss9Zf+Nq/wb/U5M6P0Q1Xdyi5HVNF+bDEEpQ9u3DLTsvY6v0dbkf5yhTJ6Amjp/sCoA7QL9PmhdEXgV/eGj/4rCOVGZoJUMeD/K5XIthdQdotXpCDx793STB17yF+q/OqJKLf1ugnLOR9ANgVjuQGf5zO+SAoW0aGhzGZzk8jpKGHKyPvTt/BlNANKKi8AQ9u20vClvMyiJWE66Ge0o3IA1hmSKVu+fX1MZUAO6ZW1skQ4x/zgP+Qqs4fdhFPhbTXDYMkCiMJoBWGMoYLPXP8YIKK/4maJkZZmXE7/XusdKuC50wmCGectV+UTuwWBpquRnZ6lOxWVPOcbMtvmFn/24XIzv+hYuRu0CchZMD5yCdQkWmG2oo9ba9/R6kwzj2ZXZbM85xN+6MH+4q9vxK/IAE0wiSzMqPysT/nXUM0PSiId+nMLgI6c+Gun8iV0uvWcbwbISWCa2ZXeVWe82PAvrW/xvXtFop9nCxkXG9GME+WE1x355AbLb8QTxhta+8slqbvabcWkjO7D7u81UpW6KkcUWiMQ1fUwcCFnWy+GlxBD36nrZi2U3jdxZAJvZQJoG+4q/DGkIeqnEk4rTcxvfs/oj9jDanwqNciZ6VOa1jSUred9H1yHw4FwqBUQdeesNcuTpDAsgQtwS8DKd3dMH8WIvsvzgjJo6ROLIjIL+xL6f8drV42pM/7s2hPJGS0kchcbXYhpN0y3peEyfs4pZnttSIIedeejOdaAbq2s64deEE8xBC5K3elKIgXw0prG1UJDKNq9b1Ck0FBo60qV3neD30GOUKNwvFO7NQxylVuaKeH759o8vD2mexHUSLjPHfIPLw4t4j+RQM/DwzXKjfbWNmEbDvER9ExETtdXZXhGfKckr7a/3sGERXYJ3+427FEmSKR31hvaJR0Hia4vrNnmnhceSNZbltPLeei+240d9OrWeIdq7MxdFxsHG628sGXZfgIvnZ9fOVYXLMmc4yAcXqzNwwjuk0Q618sMq+IFdlD+4o4U6p1GgJeBAOhHf4dc30WqWfqxWeZPofYj3xQKWy/V22InanzTC18riHFuTi36B/4wZnGs0In0hxkXcy/pJqN+ClhVtNyZ3a+3z23B+3IjMKQWolgvTZ6ll3nlydE39gSgPPzkIC4QkFagYXvRU4G37ncGQ0vzcaZlfzVD1+KN5qGiGU7mfm9eNLIbKcybN8mA/iPiTTgGm/fouIiAGewhfCQi86mCTsd9fLu5NlKRBZtTIHwQivzm3gHkV0omDvpfGegtHuPGVFPgmsCxi08SSUzdG51AeAPAReLfcBNb3hl8zVZhlTTPb2sefzhVV7WJ4RcK1WTQJBqXhnu3nISYtgdg1S7eH3g/GSPo84H3Ncpm/UyitJX0eTizO/ZY+bY+W30DYZILIk9/+P8TFoQv7jvsLB6i3ZV4CdpzlX2jVLyMze98vdjYhKrZWXZ54vEkUUphzsoFoaO3c6WyIwsoZ+QkEvR/zxo8MGX3qsrwe3TV30LVG7aRWIANYljGVHuz/jZTs8ETtTME0TAqyLM6ToHFcDw5jcjsQdkfLuejX19q39w+mXMQiG1whbwH6cRy8H/nEIkdjYixZBhbBzeUWzq6oivbGADwwO8dDfDzuCRlq/pPOwdAssA+BkQR7S+1461ngebqhA1gpdgOoWjTQ7HAuwzrXU1RsnyTFEGjKXV+//sc8Y5tZpeYMCEGv69svzcurpkoh/dEI2iL59MMcHvMa6DDPcA+uGxzCSaZA+9PPjz0YFdsDNhaZ3kelf4IgiJetw35sfwLlOIe5u+/rxiBZa3lquYnDSCuq73pz3ER+oHfzgLpnvxTlRLzA9LSaBjE4XuSj074IT3cLJcBQ+w/fXDQQdVEUY25eRfC0A47fgIXw+RuD4loUbASp3PCJ/wexunz54X2dGBMfzM4ntpQn96S+hVrUefS46CZ1/JjBDIWnV5AySwUI9Q52dv3+ToE3eqeVFF8M8biVVBoex1QHZ+ERnCFLhPnAaywVALIyGw5rjhI1mUK3cHe3lUtHZpOpvPw8Up6mVm5peqMhLBgBhn+Yf8a7EXlUeKYFA6APuo+QCirQIItzht3dSio6QTdeCeee+yRTvsOJwRKoH9+T/4gdXH3xRRcQV67KatFlOUgyrrrOnMMS7IWU5FT5ndzn+zgZ5m/4BJwCOL01ZHo7askR2ObaWf7/pxX25UmJzc9mnu5kbZ/duJQptwADYXC23JxGTXwgA2KR2XZwpv3P9bOH8UyMazJGchpi4Pf678YBM6nKZo7cJ+Ce2QSLpIw6X+A6sAPQ0iamutwyj/Hz296B8PNxX9AKbQosvq+Cngyp9lQ+sTGE9CJ43Hbf6PTqCyGoBK9PmiCmnhlqBDCcCD+f4Wux/2RJbka7B2U2zLg4/9faWJhhIaBE+zVf9fWgVV20KVGk38uniaG465wtbzf/fEKY1t7/D3zVxygexSEYT3QbcqD1JRD80k736dqO/pDtjcdahK4p4wH8ex/F3ZeQBr95KrrkPWku4+OpjJ3bRDIBb22wPaZ+IaKaDRvye2PEeh79/NtviQIIrvAszcUQLw3XKUCelf6NRIW4NULcCfqL302SJj40FWiItK4xIg5pN+/DSdMzMUTjTIYfzxQSoPYCzr960vIa39qfoYw7Gp1p3YRgC+IF2gOfJqRfkTf8j/1K4vvUg81P4Ps8B1gujIsN0UGZCXBn0MmXfaDanZPwYkTCjgGmInNX+NYein0pJ73Jnwn51JhQzwYwXl4pwVWsFBqD6Hgum6BTrzTQV2SA0gQOTXaSd3c2VrPzFoqwj3PNRcbS+0u85mZtPw3YRwBosRB1DGEymo8abk0Piwhuy3ppz5xrW2msPNLtcG+jaJi3HLr73QSP68SSTozkjKeqFSJ6vm0OXQJ3zAwqFq9GOVTj+aBKkyaXXcPjA61D1zXWA+KFY5rsMCi9RAg5O/pkkSQEALCiYDtgZLtdd4aW8AxIeFtnUVc+m+7tXPcO4cFMuN27HmI/N7XmzxmrOkp1gWlxb4F+j1XYijvymYIlSEHQyWlIGaLhPb6eGZprnMywY/EOxKMB6wy64lgdtTHyZ8l4APTnmy2fRtveIpniwSDypE8oZ4gfqsJ0/m3VBCXHNHbKHS30F300VDJ+dxhyHI9DLiYqYY8QUi+Pq7qwWD/Ce/hANZ5kUHM9L/J0Iu1CCpR8qYxcf0KCQpeDbsR0mprQCIVNxbuQfstMrl0FAw72IxJAslpT1kRz5EW4f3YxxIIAoRrXokabegEy81OMmstyOSd6DBf3GDWfwnMZhWhBEWeTb6rELT+lrZb1YapGBta9WT9roq789//KvYRWso3Wy5Ay7qCiUCVOWDrQxdTf3rg2sfgdplXPqksaFKI2mLrug1u75vmBiczJBJAY0wYaPGMaaBwxuP4L8C3UvbArKYeojLN8dLK1LvZtRzaUn+1ZNLewPtuv2vmBleLBX7stBzymflxu+3RrA4HnHE4Tv9ouL8G+x5RrGBUTQLKWXO9FHU/SkThBWU4I3jDnVTPEcdfFKVndWutSNVK1hoiZMrh/LXietWkeqske3Ggt4urkthEEjVpAoCt2u2PadJOyfs2oTiDREXM+/ahcyhZiR8kchSJ28O2phx8jsvfsZQSKWPYNkAmPHXh40hoQ+il4DDQrhqvVOBc8He2ZI/s5FB63XYGXCIyBO81fmyfo0yE+oYF6xnviN/l6eqARHPNDsl0+p2vVE+J2TqY9+h5+a/86u/sfnQaGh+5VdBTKurSHNQyzV/44FHs5174IykHz8itY0m/oNfycoYDFRC5gvE7uBJZSaT+HkvfUBkXWrKQS0SXZ1yZAnzGzWsudxPYBgk3f6DfCFTB4KHeGi6Gqgbxl3YBuHbcxCeAwzmORXsxr8JSZMmIX3eDW/eCGJZ/iL6uwBfYyhRgO49r2bRr1Kjg8aM1pbJIS/e3mDmX0ABC8hUJm9y55n3+hwEa8vJ2q9fwHIVQgRfN8XFBEyA+l0ty7ilCLMvYPKTk3sVO7ImyOIM7EsThybQqBo79/2kIO4jKapzFtLXgJYtfdvPLP3msitrAaCeZLOAbqrdIsoBZ3I0hby7+KGW/fuEa/eTGXUjuJ0ifegOr7Ar1HX+DPIflq9YykpekDk3EqNfW5hlUdfmasYTrWrcGRkz5IM0CVAngfkBTP/lM/QIbRMtf3JqLyZD/kMrbAY2ZiFKrwiwYPcgjS2gKCrUMMpbqZ1AoRtmfPWrk10ocMY4Oe62JFn28t5Jpf4oEq+Nh/UeCj9D3ID6smWwicwLeTKhIGxhObey9/qI+nGfcWQdW6DuLIOfiIoSkojxAbf2w3IaDPHbXg93ST3Q4lCzaEgc1oo5XJ+CK+Njz/iW9SBv6AjzBhTRk5x2NYtO8CEYJPy/dA1W6YOMZQVsXHUOglSShUsB0AGmdVDFm6MAUT2E+OnEixBjvONHDtEU9vlSOcKiLHPJI0r/ysw2p4fY/4AqZM1jy/mpoZP44L8Z2Rz5pmhgSsAe6ZBy+ijipvz3nhf8EAMSTE3zs1Yuz4vymVKhC61OMhEqjClgm2BOJErM5I86UdTy523RnlhsovJWNiCpXMGXSinIbjDyAmpiP7sp74QwY6b/qwVskHwEvtTpdZCWYveKl3DH1S4LTsVeDZc7C6V05ndaLlXWFBg6gWDkA0mHg+6V268vRZ52YTTWRXKh92XcbyPA2kXoe3lbKEp5VleBcvnQ1e4OgXc8C72daxONrP2L6z3OaGOKVomEk7r+zlnub3EjGayQ/Og0Xs7WjYZ/0ys+kWpAftFhYV7lV1cNjILVpQ4tXLWt2d9vtUUz+iYuogefKI5z65taQFfiHJDVSFMUorKY4KAxaLfbs2dVfa3kebCBF5ZVlUNifFGtrhfpfZLmaW2j1tFnRqDQZBYvM/zbwoJhtPG8oJONGtNmOckpNitvLmcJsrObxUra8bmr3woGoAAFJoQfcEM/6LnJg5esZ/z4MG1HZtJCWySKGUEXllYRyPXK9dIGXFd16usXqwR39CYymQ9tePnhBiwUwScUdus4VwJJw/mlf9TokyWtK0EGDwAvWgkAiIEtoujHNgUpV4JGaztVRlKkrZWo2tTAYr0uyuQdeJfh1NIaKHIEP/P9u9A9/b4j4K+WB3n3/fn5vW6tYvZxmFHZlKHloDqDZSs2Hs9a8C8JQGIcZwV0XFAj4r9/tnL3EmIofyyxY7rptWKUmf3hKQm0U2wPB4vsE7obczMGGJ4taOQpn8KefphLH1wkWtyIDabkBWxMEcGW48qVe9JD8ETCdfptCQhZQ8KETaQE7q1+FV+FvK8PzVE+iLyPcQaR/F3zQCK0QNUh4TFvVkR6Ma2zKYoarUGOPfgEQA36zdiLW/jwu1b3+180JeV8/bsruxPD2+m1Q00Kgyc8FlzW0AOTdDtCmiH+XNgWhpIYKErtmZL0jKtntcP2eMRql4EjS+0z9RcTmvzX8s+fg4lGqvbbT0hAzihSba94WvIfZNYuRkkAKioOIY+F3fZ2SYQu8ACN1dK53rx8dwGI1NdUIjwgvYabZv4NYxiDGfVs3RLKPr5UxPlcaoes4GmGQlH8OxPRLHsWBW7Rn5nBZYczq4p3fmuB9uD/BXS2MDFbY3BSeczowP8Aa0DvbAYwNnPD+Z8SRZcch+2yF3288Zjy6FRcd1sApse15AI0IU6Dr0WgWOZbW3iFnl267K24KKo+qqHdMsEf7aA0fgRVMFGAe05rZKAhXDRk8JrNeM72rYYEhEBdO/m4W+CdaJ4yBv5RaLHyq0sDLc7WhgvhlPJoWkC7vBIQP0yA9tb0/Dv4IJ2GmoDyyQwFVggaHHsuMi1Xdl5DlJ6abF9WJRmyIswXeqdIx+5m47cejPLZhEp+Tt4irROKRf2JQ8ZDMNwKbUACSh5MmhW0FxER0pqA4AZSKxiyuEthZZJRctdtYjVgiiis8xrsPNkw+GpLVI4exDi2n/cwlTUdW5CgoIjIcItk3KneRzQvtd8ZkRl9BDDdczhQ6MdPPE2DHhtmwFpZYW7nreVrUK2YnHXNYmGDwvk5+LTioTLdoToyMF59tm2rq2XjxB/uMtbfLB4TGlWciw1FJWNyE4iSKdkCVVNIMNWmVX9UQlKTo7l81ov2TP2gTsd7FoooLYn6m+XAwVlqTswcq+4fm5j8rHC0pC1rlmaU6FvDJU0QHULGzDt1mZDZ2KZ3RuaV67cxr/Z15CGhlNs215PGLOO3xYaUbPhtxaDp4iOvSUKUcLq+dP/lvklPffLDNHKNPppW8VrKrxbQ+S9CNdc3BO2Z3Hddx3qIauEdo+vol6+6wbZ6rqyzwI9VrXIGE3KmDVezUNassXrw09fscke41i7Mp3uwd+7fgXY9ZpVFowkYdc4lOQUpCwOZ+0Ll/T/vgbToUJyX3CGGmuJzTLC/laVURzWQXyXcZ5kDk5vP5q1+K0r95xgWqx8ZVYik0sl4kjCHaIR/hCsd7hPLqYt7//HrtixXKDAYvW85Uu0w7V3fGs5rHGlCILC+K9KMFDNpf18KFKXN/DJSbqqCUH2NF1tcxxxqs+UBKBz+lof7QzF/RZh1N14+ZchuODeasbB0NWR8Zsp5LSm3QVkt/r0BBgjIWCResYP1lw4DcYUjWVJQxSQpDVzAc++qPNBuB9dO9M9Z/srprZFohilctYr6+a1nUG8gIipvF00V9qm2qsyudaNBwosOmz5/yh1ag77Gkzl/HN+xr2BUNxc67EaAEA9+TUQdMn4wpnYZpRkq8zKfYcj+6igD2pFsPt+WTe2LMF7DdmH9Udh9yQIgvWiXJI/SyDfPxBGcvp5F5+HTN27mHcb9xpiz/uOphw+RDIVzL1AQ5FK78rYo/DAr4t8FFUr2l828g7hQZqhj6qZvR3G4tJ0u2bCMa1iZz8psJwRDjFTPS4av4h6/FZ4S8NccrXkalwwyQvId01ZOVo1B4qaOTrRp5dInkMLx4AwegA0JAUUSYl4U89WDwpfn1uwTvOnQNV4p6ezN37hGh7enPq2lzBIHZhljYTvkNOoNriZNDhOcrAKO4VFgLxsweOaYeXJV7DKrE4uVR+ORMOqvGHycd8WoRp0YhewmBiEQE0JwPQJtSGw2e6AM0U4LJwgbfdpKBjy1ySmww0Vqokd4wnNzqlSQJrfBZMF7RWhNhLtkF8a8noPFcfvecvqGPTMqNUOZPax7IBgm09Vpj9fiDx8LQW5oz4AAAAAAAAAAAAAABFWElGugAAAEV4aWYAAElJKgAIAAAABgASAQMAAQAAAAEAAAAaAQUAAQAAAFYAAAAbAQUAAQAAAF4AAAAoAQMAAQAAAAIAAAATAgMAAQAAAAEAAABphwQAAQAAAGYAAAAAAAAASAAAAAEAAABIAAAAAQAAAAYAAJAHAAQAAAAwMjEwAZEHAAQAAAABAgMAAKAHAAQAAAAwMTAwAaADAAEAAAD//wAAAqAEAAEAAACwAQAAA6AEAAEAAAADAQAAAAAAAA==)"
      ],
      "metadata": {
        "id": "q12-Ino2IPZK"
      }
    },
    {
      "cell_type": "code",
      "execution_count": 28,
      "metadata": {
        "colab": {
          "base_uri": "https://localhost:8080/",
          "height": 206
        },
        "id": "t4HHHf-OEzMB",
        "outputId": "da8ca715-6a29-4c3d-da5e-e5f5e2298d42"
      },
      "outputs": [
        {
          "output_type": "execute_result",
          "data": {
            "text/plain": [
              "                                          question      answer\n",
              "0                   What is the capital of France?       Paris\n",
              "1                  What is the capital of Germany?      Berlin\n",
              "2               Who wrote 'To Kill a Mockingbird'?  Harper-Lee\n",
              "3  What is the largest planet in our solar system?     Jupiter\n",
              "4   What is the boiling point of water in Celsius?         100"
            ],
            "text/html": [
              "\n",
              "  <div id=\"df-2c00556c-204d-46eb-b8ca-9c42174a2e64\" class=\"colab-df-container\">\n",
              "    <div>\n",
              "<style scoped>\n",
              "    .dataframe tbody tr th:only-of-type {\n",
              "        vertical-align: middle;\n",
              "    }\n",
              "\n",
              "    .dataframe tbody tr th {\n",
              "        vertical-align: top;\n",
              "    }\n",
              "\n",
              "    .dataframe thead th {\n",
              "        text-align: right;\n",
              "    }\n",
              "</style>\n",
              "<table border=\"1\" class=\"dataframe\">\n",
              "  <thead>\n",
              "    <tr style=\"text-align: right;\">\n",
              "      <th></th>\n",
              "      <th>question</th>\n",
              "      <th>answer</th>\n",
              "    </tr>\n",
              "  </thead>\n",
              "  <tbody>\n",
              "    <tr>\n",
              "      <th>0</th>\n",
              "      <td>What is the capital of France?</td>\n",
              "      <td>Paris</td>\n",
              "    </tr>\n",
              "    <tr>\n",
              "      <th>1</th>\n",
              "      <td>What is the capital of Germany?</td>\n",
              "      <td>Berlin</td>\n",
              "    </tr>\n",
              "    <tr>\n",
              "      <th>2</th>\n",
              "      <td>Who wrote 'To Kill a Mockingbird'?</td>\n",
              "      <td>Harper-Lee</td>\n",
              "    </tr>\n",
              "    <tr>\n",
              "      <th>3</th>\n",
              "      <td>What is the largest planet in our solar system?</td>\n",
              "      <td>Jupiter</td>\n",
              "    </tr>\n",
              "    <tr>\n",
              "      <th>4</th>\n",
              "      <td>What is the boiling point of water in Celsius?</td>\n",
              "      <td>100</td>\n",
              "    </tr>\n",
              "  </tbody>\n",
              "</table>\n",
              "</div>\n",
              "    <div class=\"colab-df-buttons\">\n",
              "\n",
              "  <div class=\"colab-df-container\">\n",
              "    <button class=\"colab-df-convert\" onclick=\"convertToInteractive('df-2c00556c-204d-46eb-b8ca-9c42174a2e64')\"\n",
              "            title=\"Convert this dataframe to an interactive table.\"\n",
              "            style=\"display:none;\">\n",
              "\n",
              "  <svg xmlns=\"http://www.w3.org/2000/svg\" height=\"24px\" viewBox=\"0 -960 960 960\">\n",
              "    <path d=\"M120-120v-720h720v720H120Zm60-500h600v-160H180v160Zm220 220h160v-160H400v160Zm0 220h160v-160H400v160ZM180-400h160v-160H180v160Zm440 0h160v-160H620v160ZM180-180h160v-160H180v160Zm440 0h160v-160H620v160Z\"/>\n",
              "  </svg>\n",
              "    </button>\n",
              "\n",
              "  <style>\n",
              "    .colab-df-container {\n",
              "      display:flex;\n",
              "      gap: 12px;\n",
              "    }\n",
              "\n",
              "    .colab-df-convert {\n",
              "      background-color: #E8F0FE;\n",
              "      border: none;\n",
              "      border-radius: 50%;\n",
              "      cursor: pointer;\n",
              "      display: none;\n",
              "      fill: #1967D2;\n",
              "      height: 32px;\n",
              "      padding: 0 0 0 0;\n",
              "      width: 32px;\n",
              "    }\n",
              "\n",
              "    .colab-df-convert:hover {\n",
              "      background-color: #E2EBFA;\n",
              "      box-shadow: 0px 1px 2px rgba(60, 64, 67, 0.3), 0px 1px 3px 1px rgba(60, 64, 67, 0.15);\n",
              "      fill: #174EA6;\n",
              "    }\n",
              "\n",
              "    .colab-df-buttons div {\n",
              "      margin-bottom: 4px;\n",
              "    }\n",
              "\n",
              "    [theme=dark] .colab-df-convert {\n",
              "      background-color: #3B4455;\n",
              "      fill: #D2E3FC;\n",
              "    }\n",
              "\n",
              "    [theme=dark] .colab-df-convert:hover {\n",
              "      background-color: #434B5C;\n",
              "      box-shadow: 0px 1px 3px 1px rgba(0, 0, 0, 0.15);\n",
              "      filter: drop-shadow(0px 1px 2px rgba(0, 0, 0, 0.3));\n",
              "      fill: #FFFFFF;\n",
              "    }\n",
              "  </style>\n",
              "\n",
              "    <script>\n",
              "      const buttonEl =\n",
              "        document.querySelector('#df-2c00556c-204d-46eb-b8ca-9c42174a2e64 button.colab-df-convert');\n",
              "      buttonEl.style.display =\n",
              "        google.colab.kernel.accessAllowed ? 'block' : 'none';\n",
              "\n",
              "      async function convertToInteractive(key) {\n",
              "        const element = document.querySelector('#df-2c00556c-204d-46eb-b8ca-9c42174a2e64');\n",
              "        const dataTable =\n",
              "          await google.colab.kernel.invokeFunction('convertToInteractive',\n",
              "                                                    [key], {});\n",
              "        if (!dataTable) return;\n",
              "\n",
              "        const docLinkHtml = 'Like what you see? Visit the ' +\n",
              "          '<a target=\"_blank\" href=https://colab.research.google.com/notebooks/data_table.ipynb>data table notebook</a>'\n",
              "          + ' to learn more about interactive tables.';\n",
              "        element.innerHTML = '';\n",
              "        dataTable['output_type'] = 'display_data';\n",
              "        await google.colab.output.renderOutput(dataTable, element);\n",
              "        const docLink = document.createElement('div');\n",
              "        docLink.innerHTML = docLinkHtml;\n",
              "        element.appendChild(docLink);\n",
              "      }\n",
              "    </script>\n",
              "  </div>\n",
              "\n",
              "\n",
              "    <div id=\"df-eae4ea0b-7c44-493f-a5ef-e0ec99bfcc44\">\n",
              "      <button class=\"colab-df-quickchart\" onclick=\"quickchart('df-eae4ea0b-7c44-493f-a5ef-e0ec99bfcc44')\"\n",
              "                title=\"Suggest charts\"\n",
              "                style=\"display:none;\">\n",
              "\n",
              "<svg xmlns=\"http://www.w3.org/2000/svg\" height=\"24px\"viewBox=\"0 0 24 24\"\n",
              "     width=\"24px\">\n",
              "    <g>\n",
              "        <path d=\"M19 3H5c-1.1 0-2 .9-2 2v14c0 1.1.9 2 2 2h14c1.1 0 2-.9 2-2V5c0-1.1-.9-2-2-2zM9 17H7v-7h2v7zm4 0h-2V7h2v10zm4 0h-2v-4h2v4z\"/>\n",
              "    </g>\n",
              "</svg>\n",
              "      </button>\n",
              "\n",
              "<style>\n",
              "  .colab-df-quickchart {\n",
              "      --bg-color: #E8F0FE;\n",
              "      --fill-color: #1967D2;\n",
              "      --hover-bg-color: #E2EBFA;\n",
              "      --hover-fill-color: #174EA6;\n",
              "      --disabled-fill-color: #AAA;\n",
              "      --disabled-bg-color: #DDD;\n",
              "  }\n",
              "\n",
              "  [theme=dark] .colab-df-quickchart {\n",
              "      --bg-color: #3B4455;\n",
              "      --fill-color: #D2E3FC;\n",
              "      --hover-bg-color: #434B5C;\n",
              "      --hover-fill-color: #FFFFFF;\n",
              "      --disabled-bg-color: #3B4455;\n",
              "      --disabled-fill-color: #666;\n",
              "  }\n",
              "\n",
              "  .colab-df-quickchart {\n",
              "    background-color: var(--bg-color);\n",
              "    border: none;\n",
              "    border-radius: 50%;\n",
              "    cursor: pointer;\n",
              "    display: none;\n",
              "    fill: var(--fill-color);\n",
              "    height: 32px;\n",
              "    padding: 0;\n",
              "    width: 32px;\n",
              "  }\n",
              "\n",
              "  .colab-df-quickchart:hover {\n",
              "    background-color: var(--hover-bg-color);\n",
              "    box-shadow: 0 1px 2px rgba(60, 64, 67, 0.3), 0 1px 3px 1px rgba(60, 64, 67, 0.15);\n",
              "    fill: var(--button-hover-fill-color);\n",
              "  }\n",
              "\n",
              "  .colab-df-quickchart-complete:disabled,\n",
              "  .colab-df-quickchart-complete:disabled:hover {\n",
              "    background-color: var(--disabled-bg-color);\n",
              "    fill: var(--disabled-fill-color);\n",
              "    box-shadow: none;\n",
              "  }\n",
              "\n",
              "  .colab-df-spinner {\n",
              "    border: 2px solid var(--fill-color);\n",
              "    border-color: transparent;\n",
              "    border-bottom-color: var(--fill-color);\n",
              "    animation:\n",
              "      spin 1s steps(1) infinite;\n",
              "  }\n",
              "\n",
              "  @keyframes spin {\n",
              "    0% {\n",
              "      border-color: transparent;\n",
              "      border-bottom-color: var(--fill-color);\n",
              "      border-left-color: var(--fill-color);\n",
              "    }\n",
              "    20% {\n",
              "      border-color: transparent;\n",
              "      border-left-color: var(--fill-color);\n",
              "      border-top-color: var(--fill-color);\n",
              "    }\n",
              "    30% {\n",
              "      border-color: transparent;\n",
              "      border-left-color: var(--fill-color);\n",
              "      border-top-color: var(--fill-color);\n",
              "      border-right-color: var(--fill-color);\n",
              "    }\n",
              "    40% {\n",
              "      border-color: transparent;\n",
              "      border-right-color: var(--fill-color);\n",
              "      border-top-color: var(--fill-color);\n",
              "    }\n",
              "    60% {\n",
              "      border-color: transparent;\n",
              "      border-right-color: var(--fill-color);\n",
              "    }\n",
              "    80% {\n",
              "      border-color: transparent;\n",
              "      border-right-color: var(--fill-color);\n",
              "      border-bottom-color: var(--fill-color);\n",
              "    }\n",
              "    90% {\n",
              "      border-color: transparent;\n",
              "      border-bottom-color: var(--fill-color);\n",
              "    }\n",
              "  }\n",
              "</style>\n",
              "\n",
              "      <script>\n",
              "        async function quickchart(key) {\n",
              "          const quickchartButtonEl =\n",
              "            document.querySelector('#' + key + ' button');\n",
              "          quickchartButtonEl.disabled = true;  // To prevent multiple clicks.\n",
              "          quickchartButtonEl.classList.add('colab-df-spinner');\n",
              "          try {\n",
              "            const charts = await google.colab.kernel.invokeFunction(\n",
              "                'suggestCharts', [key], {});\n",
              "          } catch (error) {\n",
              "            console.error('Error during call to suggestCharts:', error);\n",
              "          }\n",
              "          quickchartButtonEl.classList.remove('colab-df-spinner');\n",
              "          quickchartButtonEl.classList.add('colab-df-quickchart-complete');\n",
              "        }\n",
              "        (() => {\n",
              "          let quickchartButtonEl =\n",
              "            document.querySelector('#df-eae4ea0b-7c44-493f-a5ef-e0ec99bfcc44 button');\n",
              "          quickchartButtonEl.style.display =\n",
              "            google.colab.kernel.accessAllowed ? 'block' : 'none';\n",
              "        })();\n",
              "      </script>\n",
              "    </div>\n",
              "\n",
              "    </div>\n",
              "  </div>\n"
            ],
            "application/vnd.google.colaboratory.intrinsic+json": {
              "type": "dataframe",
              "variable_name": "df",
              "summary": "{\n  \"name\": \"df\",\n  \"rows\": 90,\n  \"fields\": [\n    {\n      \"column\": \"question\",\n      \"properties\": {\n        \"dtype\": \"string\",\n        \"num_unique_values\": 90,\n        \"samples\": [\n          \"What is the currency of China?\",\n          \"What is the capital of Australia?\",\n          \"Who discovered electricity?\"\n        ],\n        \"semantic_type\": \"\",\n        \"description\": \"\"\n      }\n    },\n    {\n      \"column\": \"answer\",\n      \"properties\": {\n        \"dtype\": \"string\",\n        \"num_unique_values\": 85,\n        \"samples\": [\n          \"ChristopherColumbus\",\n          \"Paris\",\n          \"Christmas\"\n        ],\n        \"semantic_type\": \"\",\n        \"description\": \"\"\n      }\n    }\n  ]\n}"
            }
          },
          "metadata": {},
          "execution_count": 28
        }
      ],
      "source": [
        "import pandas as pd\n",
        "df = pd.read_csv('/content/100_Unique_QA_Dataset.csv')\n",
        "df.head()"
      ]
    },
    {
      "cell_type": "markdown",
      "source": [
        "## Tokenization"
      ],
      "metadata": {
        "id": "ChfeSWIhHeuW"
      }
    },
    {
      "cell_type": "code",
      "source": [
        "# tokenize\n",
        "def tokenize(text):\n",
        "  text = text.lower()\n",
        "  text = text.replace('?','')\n",
        "  text = text.replace(\"'\",\"\")\n",
        "  return text.split()"
      ],
      "metadata": {
        "id": "_IFreJBiFa15"
      },
      "execution_count": 2,
      "outputs": []
    },
    {
      "cell_type": "code",
      "source": [
        "tokenize('What is the capital of France?')"
      ],
      "metadata": {
        "colab": {
          "base_uri": "https://localhost:8080/"
        },
        "id": "0ynJTCveFevD",
        "outputId": "d4c3a5b3-859f-4a8f-a93f-6bc5066ce355"
      },
      "execution_count": 3,
      "outputs": [
        {
          "output_type": "execute_result",
          "data": {
            "text/plain": [
              "['what', 'is', 'the', 'capital', 'of', 'france']"
            ]
          },
          "metadata": {},
          "execution_count": 3
        }
      ]
    },
    {
      "cell_type": "code",
      "source": [
        "# vocab\n",
        "vocab = {'<UNK>':0}"
      ],
      "metadata": {
        "id": "4jOPEdhzFgeU"
      },
      "execution_count": 4,
      "outputs": []
    },
    {
      "cell_type": "code",
      "source": [
        "def build_vocab(row):\n",
        "  tokenized_question = tokenize(row['question'])\n",
        "  tokenized_answer = tokenize(row['answer'])\n",
        "\n",
        "  merged_tokens = tokenized_question + tokenized_answer\n",
        "\n",
        "  for token in merged_tokens:\n",
        "\n",
        "    if token not in vocab:\n",
        "      vocab[token] = len(vocab)"
      ],
      "metadata": {
        "id": "ZdnDTeECFiXV"
      },
      "execution_count": 5,
      "outputs": []
    },
    {
      "cell_type": "code",
      "source": [
        "df.apply(build_vocab, axis=1)"
      ],
      "metadata": {
        "colab": {
          "base_uri": "https://localhost:8080/",
          "height": 458
        },
        "id": "h60CGvBCFkNM",
        "outputId": "f6aa9ba8-9ccb-4934-dc6b-11a4c5e503a7"
      },
      "execution_count": 6,
      "outputs": [
        {
          "output_type": "execute_result",
          "data": {
            "text/plain": [
              "0     None\n",
              "1     None\n",
              "2     None\n",
              "3     None\n",
              "4     None\n",
              "      ... \n",
              "85    None\n",
              "86    None\n",
              "87    None\n",
              "88    None\n",
              "89    None\n",
              "Length: 90, dtype: object"
            ],
            "text/html": [
              "<div>\n",
              "<style scoped>\n",
              "    .dataframe tbody tr th:only-of-type {\n",
              "        vertical-align: middle;\n",
              "    }\n",
              "\n",
              "    .dataframe tbody tr th {\n",
              "        vertical-align: top;\n",
              "    }\n",
              "\n",
              "    .dataframe thead th {\n",
              "        text-align: right;\n",
              "    }\n",
              "</style>\n",
              "<table border=\"1\" class=\"dataframe\">\n",
              "  <thead>\n",
              "    <tr style=\"text-align: right;\">\n",
              "      <th></th>\n",
              "      <th>0</th>\n",
              "    </tr>\n",
              "  </thead>\n",
              "  <tbody>\n",
              "    <tr>\n",
              "      <th>0</th>\n",
              "      <td>None</td>\n",
              "    </tr>\n",
              "    <tr>\n",
              "      <th>1</th>\n",
              "      <td>None</td>\n",
              "    </tr>\n",
              "    <tr>\n",
              "      <th>2</th>\n",
              "      <td>None</td>\n",
              "    </tr>\n",
              "    <tr>\n",
              "      <th>3</th>\n",
              "      <td>None</td>\n",
              "    </tr>\n",
              "    <tr>\n",
              "      <th>4</th>\n",
              "      <td>None</td>\n",
              "    </tr>\n",
              "    <tr>\n",
              "      <th>...</th>\n",
              "      <td>...</td>\n",
              "    </tr>\n",
              "    <tr>\n",
              "      <th>85</th>\n",
              "      <td>None</td>\n",
              "    </tr>\n",
              "    <tr>\n",
              "      <th>86</th>\n",
              "      <td>None</td>\n",
              "    </tr>\n",
              "    <tr>\n",
              "      <th>87</th>\n",
              "      <td>None</td>\n",
              "    </tr>\n",
              "    <tr>\n",
              "      <th>88</th>\n",
              "      <td>None</td>\n",
              "    </tr>\n",
              "    <tr>\n",
              "      <th>89</th>\n",
              "      <td>None</td>\n",
              "    </tr>\n",
              "  </tbody>\n",
              "</table>\n",
              "<p>90 rows × 1 columns</p>\n",
              "</div><br><label><b>dtype:</b> object</label>"
            ]
          },
          "metadata": {},
          "execution_count": 6
        }
      ]
    },
    {
      "cell_type": "code",
      "source": [
        "len(vocab)"
      ],
      "metadata": {
        "colab": {
          "base_uri": "https://localhost:8080/"
        },
        "id": "5F6az5_dFmHb",
        "outputId": "bcfb6031-2592-4ed1-a788-80b7d4c9a3b7"
      },
      "execution_count": 7,
      "outputs": [
        {
          "output_type": "execute_result",
          "data": {
            "text/plain": [
              "324"
            ]
          },
          "metadata": {},
          "execution_count": 7
        }
      ]
    },
    {
      "cell_type": "code",
      "source": [
        "# convert words to numerical indices\n",
        "def text_to_indices(text, vocab):\n",
        "\n",
        "  indexed_text = []\n",
        "\n",
        "  for token in tokenize(text):\n",
        "\n",
        "    if token in vocab:\n",
        "      indexed_text.append(vocab[token])\n",
        "    else:\n",
        "      indexed_text.append(vocab['<UNK>'])\n",
        "\n",
        "  return indexed_text"
      ],
      "metadata": {
        "id": "lDMOWej7FoWI"
      },
      "execution_count": 8,
      "outputs": []
    },
    {
      "cell_type": "code",
      "source": [
        "text_to_indices(\"What is campusx\", vocab)"
      ],
      "metadata": {
        "colab": {
          "base_uri": "https://localhost:8080/"
        },
        "id": "YYyg3WhcFrwH",
        "outputId": "c1d3fd23-b7eb-4a2d-980c-9e796e06c060"
      },
      "execution_count": 9,
      "outputs": [
        {
          "output_type": "execute_result",
          "data": {
            "text/plain": [
              "[1, 2, 0]"
            ]
          },
          "metadata": {},
          "execution_count": 9
        }
      ]
    },
    {
      "cell_type": "code",
      "source": [
        "import torch\n",
        "import torch.nn as nn\n",
        "from torch.utils.data import Dataset, DataLoader"
      ],
      "metadata": {
        "id": "GapLo7JEFtfB"
      },
      "execution_count": 15,
      "outputs": []
    },
    {
      "cell_type": "code",
      "source": [
        "class QADataset(Dataset):\n",
        "  def __init__(self, df, vocab):\n",
        "    self.df = df\n",
        "    self.vocab = vocab\n",
        "\n",
        "  def __len__(self):\n",
        "    return self.df.shape[0]\n",
        "\n",
        "  def __getitem__(self, index):\n",
        "\n",
        "    numerical_question = text_to_indices(self.df.iloc[index]['question'], self.vocab)\n",
        "    numerical_answer = text_to_indices(self.df.iloc[index]['answer'], self.vocab)\n",
        "    return torch.tensor(numerical_question), torch.tensor(numerical_answer)"
      ],
      "metadata": {
        "id": "5bM7_RYMFv5P"
      },
      "execution_count": 11,
      "outputs": []
    },
    {
      "cell_type": "code",
      "source": [
        "dataset = QADataset(df, vocab)"
      ],
      "metadata": {
        "id": "1die7hItFzeZ"
      },
      "execution_count": 12,
      "outputs": []
    },
    {
      "cell_type": "code",
      "source": [
        "dataloader = DataLoader(dataset, batch_size=1, shuffle=True)"
      ],
      "metadata": {
        "id": "sItn1p9NF5dc"
      },
      "execution_count": 13,
      "outputs": []
    },
    {
      "cell_type": "code",
      "source": [
        "for question, answer in dataloader:\n",
        "  print(question, answer[0])"
      ],
      "metadata": {
        "colab": {
          "base_uri": "https://localhost:8080/"
        },
        "id": "JEMxxNa-F8UX",
        "outputId": "135e93cc-ca81-490d-c635-3e68597758ea"
      },
      "execution_count": 14,
      "outputs": [
        {
          "output_type": "stream",
          "name": "stdout",
          "text": [
            "tensor([[  1,   2,   3, 146,  86,  19, 192, 193]]) tensor([194])\n",
            "tensor([[ 42, 107,   2, 108,  19, 109]]) tensor([110])\n",
            "tensor([[ 42, 137,   2, 138,  39, 139]]) tensor([53])\n",
            "tensor([[ 42,  86,  87, 241, 242,  19,  39, 243]]) tensor([244])\n",
            "tensor([[ 1,  2,  3,  4,  5, 73]]) tensor([74])\n",
            "tensor([[  1,   2,   3,   4,   5, 279]]) tensor([280])\n",
            "tensor([[10,  2,  3, 66,  5, 67]]) tensor([68])\n",
            "tensor([[  1,   2,   3, 212,   5,  14, 213, 214]]) tensor([215])\n",
            "tensor([[  1,   2,   3, 234,   5, 235]]) tensor([131])\n",
            "tensor([[  1,   2,   3, 163, 164, 165,  83,  84]]) tensor([166])\n",
            "tensor([[ 1,  2,  3, 17, 18, 19, 20, 21, 22]]) tensor([23])\n",
            "tensor([[ 78,  79, 129,  81,  19,   3,  21,  22]]) tensor([36])\n",
            "tensor([[ 42, 216, 118, 217, 218,  19,  14, 219,  43]]) tensor([220])\n",
            "tensor([[ 42, 255,   2, 256,  83, 257, 258]]) tensor([259])\n",
            "tensor([[  1,   2,   3,  17, 115,  83,  84]]) tensor([116])\n",
            "tensor([[1, 2, 3, 4, 5, 6]]) tensor([7])\n",
            "tensor([[  1,   2,   3,  37,  38,  39, 161]]) tensor([162])\n",
            "tensor([[  1,   2,   3,  69,   5, 155]]) tensor([156])\n",
            "tensor([[  1,   2,   3,   4,   5, 286]]) tensor([287])\n",
            "tensor([[1, 2, 3, 4, 5, 8]]) tensor([9])\n",
            "tensor([[10, 11, 12, 13, 14, 15]]) tensor([16])\n",
            "tensor([[ 10,   2,  62,  63,   3, 283,   5, 284]]) tensor([285])\n",
            "tensor([[42, 18,  2, 62, 63,  3, 64, 18]]) tensor([65])\n",
            "tensor([[ 42,   2,   3, 274, 211, 275]]) tensor([276])\n",
            "tensor([[ 42, 299, 300, 118,  14, 301, 302, 158, 303, 304, 305, 306]]) tensor([307])\n",
            "tensor([[ 42,   2,   3, 210, 137, 168, 211, 169]]) tensor([113])\n",
            "tensor([[  1,   2,   3, 122, 123,  19,   3,  45]]) tensor([124])\n",
            "tensor([[ 10, 308,   3, 309, 310]]) tensor([311])\n",
            "tensor([[ 42, 312,   2, 313,  62,  63,   3, 314, 315]]) tensor([316])\n",
            "tensor([[ 42, 137,   2, 226,  12,   3, 227, 228]]) tensor([155])\n",
            "tensor([[ 78,  79, 195,  81,  19,   3, 196, 197, 198]]) tensor([199])\n",
            "tensor([[  1,   2,   3, 141, 117,  83,   3, 277, 278]]) tensor([121])\n",
            "tensor([[42, 86, 87, 88, 89, 39, 90]]) tensor([91])\n",
            "tensor([[10, 55,  3, 56,  5, 57]]) tensor([58])\n",
            "tensor([[ 10,  75, 208]]) tensor([209])\n",
            "tensor([[ 78,  79, 288,  81,  19,  14, 289]]) tensor([85])\n",
            "tensor([[  1,   2,   3,   4,   5, 109]]) tensor([317])\n",
            "tensor([[ 10,  29, 130, 131]]) tensor([132])\n",
            "tensor([[ 1,  2,  3, 59, 25,  5, 26, 19, 60]]) tensor([61])\n",
            "tensor([[ 10, 140,   3, 141, 270,  93, 271,   5,   3, 272]]) tensor([273])\n",
            "tensor([[42, 43, 44, 45, 46, 47, 48]]) tensor([49])\n",
            "tensor([[  1,   2,   3,   4,   5, 236, 237]]) tensor([238])\n",
            "tensor([[ 1,  2,  3, 33, 34,  5, 35]]) tensor([36])\n",
            "tensor([[ 78,  79, 261, 151,  14, 262, 153]]) tensor([36])\n",
            "tensor([[ 10,  75,   3, 296,  19, 297]]) tensor([298])\n",
            "tensor([[ 42, 263, 264,  14, 265, 266, 158, 267]]) tensor([268])\n",
            "tensor([[ 1,  2,  3, 37, 38, 39, 40]]) tensor([41])\n",
            "tensor([[ 42, 117, 118,   3, 119,  94, 120]]) tensor([121])\n",
            "tensor([[  1,   2,   3, 180, 181, 182, 183]]) tensor([184])\n",
            "tensor([[  1,   2,   3,  37, 133,   5,  26]]) tensor([134])\n",
            "tensor([[10, 75, 76]]) tensor([77])\n",
            "tensor([[  1,   2,   3,   4,   5, 206]]) tensor([207])\n",
            "tensor([[ 1,  2,  3, 69,  5,  3, 70, 71]]) tensor([72])\n",
            "tensor([[ 1,  2,  3, 24, 25,  5, 26, 19, 27]]) tensor([28])\n",
            "tensor([[ 42, 101,   2,   3,  17]]) tensor([102])\n",
            "tensor([[  1,   2,   3,   4,   5, 113]]) tensor([114])\n",
            "tensor([[ 42, 137,   2,  62,  39,   3, 322, 323]]) tensor([6])\n",
            "tensor([[ 1,  2,  3, 92, 93, 94]]) tensor([95])\n",
            "tensor([[ 42, 290, 291, 118, 292, 158, 293, 294]]) tensor([295])\n",
            "tensor([[ 78,  79, 150, 151,  14, 152, 153]]) tensor([154])\n",
            "tensor([[  1,   2,   3,  92, 137,  19,   3,  45]]) tensor([185])\n",
            "tensor([[ 1,  2,  3, 50, 51, 19,  3, 45]]) tensor([52])\n",
            "tensor([[ 1,  2,  3,  4,  5, 99]]) tensor([100])\n",
            "tensor([[ 10, 140,   3, 141, 171,   5,   3,  70, 172]]) tensor([173])\n",
            "tensor([[  1,   2,   3,   4,   5, 135]]) tensor([136])\n",
            "tensor([[ 10,  96,   3, 104, 239]]) tensor([240])\n",
            "tensor([[  1,   2,   3, 146, 147,  19, 148]]) tensor([149])\n",
            "tensor([[10, 29,  3, 30, 31]]) tensor([32])\n",
            "tensor([[ 10,  11, 157, 158, 159]]) tensor([160])\n",
            "tensor([[10, 96,  3, 97]]) tensor([98])\n",
            "tensor([[ 42,  18, 118,   3, 186, 187]]) tensor([188])\n",
            "tensor([[  1,   2,   3, 103,   5, 104,  19, 105]]) tensor([106])\n",
            "tensor([[  1,  87, 229, 230, 231, 232]]) tensor([233])\n",
            "tensor([[ 10, 140,   3, 141, 142,  12, 143,  83,   3, 144]]) tensor([145])\n",
            "tensor([[ 42, 250, 251, 118, 252, 253]]) tensor([254])\n",
            "tensor([[ 42, 137,   2, 138,  39, 175, 269]]) tensor([99])\n",
            "tensor([[ 10,  11, 189, 158, 190]]) tensor([191])\n",
            "tensor([[  1,   2,   3,  33,  34,   5, 245]]) tensor([246])\n",
            "tensor([[78, 79, 80, 81, 82, 83, 84]]) tensor([85])\n",
            "tensor([[ 42, 167,   2,   3,  17, 168, 169]]) tensor([170])\n",
            "tensor([[ 1,  2,  3, 69,  5, 53]]) tensor([260])\n",
            "tensor([[ 42, 200,   2,  14, 201, 202, 203, 204]]) tensor([205])\n",
            "tensor([[  1,   2,   3, 221,   5, 222, 223, 224]]) tensor([225])\n",
            "tensor([[ 1,  2,  3,  4,  5, 53]]) tensor([54])\n",
            "tensor([[ 10,  75, 111]]) tensor([112])\n",
            "tensor([[ 42, 318,   2,  62,  63,   3, 319,   5, 320]]) tensor([321])\n",
            "tensor([[ 42,  18,   2,   3, 281,  12,   3, 282]]) tensor([205])\n",
            "tensor([[ 42, 174,   2,  62,  39, 175, 176,  12, 177, 178]]) tensor([179])\n",
            "tensor([[ 42, 137, 118,   3, 247,   5, 248]]) tensor([249])\n",
            "tensor([[ 42, 125,   2,  62,  63,   3, 126, 127]]) tensor([128])\n"
          ]
        }
      ]
    },
    {
      "cell_type": "code",
      "source": [
        "class SimpleRNN(nn.Module):\n",
        "\n",
        "  def __init__(self, vocab_size):\n",
        "    super().__init__()\n",
        "    self.embedding = nn.Embedding(vocab_size, embedding_dim=50)\n",
        "    self.rnn = nn.RNN(50, 64, batch_first=True)\n",
        "    self.fc = nn.Linear(64, vocab_size)\n",
        "\n",
        "  def forward(self, question):\n",
        "    embedded_question = self.embedding(question)\n",
        "    hidden, final = self.rnn(embedded_question)\n",
        "    output = self.fc(final.squeeze(0))\n",
        "\n",
        "    return output"
      ],
      "metadata": {
        "id": "OQiIqk6XGAba"
      },
      "execution_count": 16,
      "outputs": []
    },
    {
      "cell_type": "code",
      "source": [
        "learning_rate = 0.001\n",
        "epochs = 20"
      ],
      "metadata": {
        "id": "fmdJPsX3GKDI"
      },
      "execution_count": 17,
      "outputs": []
    },
    {
      "cell_type": "code",
      "source": [
        "model = SimpleRNN(len(vocab))"
      ],
      "metadata": {
        "id": "nQYsiwgZGMf7"
      },
      "execution_count": 18,
      "outputs": []
    },
    {
      "cell_type": "code",
      "source": [
        "criterion = nn.CrossEntropyLoss()\n",
        "optimizer = torch.optim.Adam(model.parameters(), lr=learning_rate)"
      ],
      "metadata": {
        "id": "pvCz3C52GO84"
      },
      "execution_count": 19,
      "outputs": []
    },
    {
      "cell_type": "markdown",
      "source": [
        "## Training"
      ],
      "metadata": {
        "id": "GccJ61vrHYYI"
      }
    },
    {
      "cell_type": "code",
      "source": [
        "# Training loop\n",
        "for epoch in range(epochs):\n",
        "  total_loss = 0\n",
        "\n",
        "  for question, answer in dataloader:\n",
        "    optimizer.zero_grad()\n",
        "    # forward pass\n",
        "    output = model(question)\n",
        "    # loss -> output shape (1,324) - (1)\n",
        "    loss = criterion(output, answer[0])\n",
        "    # gradients\n",
        "    loss.backward()\n",
        "    # update\n",
        "    optimizer.step()\n",
        "    total_loss = total_loss + loss.item()\n",
        "  total_loss = (total_loss)/324\n",
        "  print(f\"Epoch: {epoch+1}, Loss: {total_loss:4f}\")"
      ],
      "metadata": {
        "colab": {
          "base_uri": "https://localhost:8080/"
        },
        "id": "QUKwtWNLGQ0N",
        "outputId": "7a2aae89-5b8b-4dd5-a5f5-cee55fb2df97"
      },
      "execution_count": 21,
      "outputs": [
        {
          "output_type": "stream",
          "name": "stdout",
          "text": [
            "Epoch: 1, Loss: 0.032116\n",
            "Epoch: 2, Loss: 0.028051\n",
            "Epoch: 3, Loss: 0.024828\n",
            "Epoch: 4, Loss: 0.022174\n",
            "Epoch: 5, Loss: 0.019657\n",
            "Epoch: 6, Loss: 0.017859\n",
            "Epoch: 7, Loss: 0.016026\n",
            "Epoch: 8, Loss: 0.014725\n",
            "Epoch: 9, Loss: 0.013188\n",
            "Epoch: 10, Loss: 0.012009\n",
            "Epoch: 11, Loss: 0.011054\n",
            "Epoch: 12, Loss: 0.010153\n",
            "Epoch: 13, Loss: 0.009375\n",
            "Epoch: 14, Loss: 0.008662\n",
            "Epoch: 15, Loss: 0.008005\n",
            "Epoch: 16, Loss: 0.007434\n",
            "Epoch: 17, Loss: 0.006918\n",
            "Epoch: 18, Loss: 0.006424\n",
            "Epoch: 19, Loss: 0.006009\n",
            "Epoch: 20, Loss: 0.005599\n"
          ]
        }
      ]
    },
    {
      "cell_type": "markdown",
      "source": [
        "## Predict Function"
      ],
      "metadata": {
        "id": "Lko_8bwLGw1c"
      }
    },
    {
      "cell_type": "code",
      "source": [
        "def predict(model, question, threshold=0.5):\n",
        "\n",
        "  # convert question to numbers\n",
        "  numerical_question = text_to_indices(question, vocab)\n",
        "  # tensor\n",
        "  question_tensor = torch.tensor(numerical_question).unsqueeze(0)\n",
        "  # send to model\n",
        "  output = model(question_tensor)\n",
        "  # convert logits to probs\n",
        "  probs = torch.nn.functional.softmax(output, dim=1)\n",
        "  # find index of max prob\n",
        "  value, index = torch.max(probs, dim=1)\n",
        "\n",
        "  if value < threshold:\n",
        "    print(\"I don't know\")\n",
        "  print(list(vocab.keys())[index])"
      ],
      "metadata": {
        "id": "92izQFiiGY2h"
      },
      "execution_count": 22,
      "outputs": []
    },
    {
      "cell_type": "code",
      "source": [
        "predict(model, \"What is the largest planet in our solar system?\")"
      ],
      "metadata": {
        "colab": {
          "base_uri": "https://localhost:8080/"
        },
        "id": "AI2ZoIhYG189",
        "outputId": "bd67d1db-01dc-4017-fc9d-94569cc97e9b"
      },
      "execution_count": 23,
      "outputs": [
        {
          "output_type": "stream",
          "name": "stdout",
          "text": [
            "jupiter\n"
          ]
        }
      ]
    },
    {
      "cell_type": "code",
      "source": [
        "predict(model, \"What is the capital of Germany?\")"
      ],
      "metadata": {
        "colab": {
          "base_uri": "https://localhost:8080/"
        },
        "id": "8fk4viF5G5E8",
        "outputId": "695f6125-c4ad-464d-8bc2-eba29107d12e"
      },
      "execution_count": 24,
      "outputs": [
        {
          "output_type": "stream",
          "name": "stdout",
          "text": [
            "berlin\n"
          ]
        }
      ]
    },
    {
      "cell_type": "code",
      "source": [
        "predict(model, \"Who directed the movie 'Titanic'?\")"
      ],
      "metadata": {
        "colab": {
          "base_uri": "https://localhost:8080/"
        },
        "id": "ZTD7v5rAHAc-",
        "outputId": "06acdd2d-44b2-4f89-db49-7be3b4628737"
      },
      "execution_count": 27,
      "outputs": [
        {
          "output_type": "stream",
          "name": "stdout",
          "text": [
            "jamescameron\n"
          ]
        }
      ]
    },
    {
      "cell_type": "code",
      "source": [
        "predict(model, \"What is the smallest prime number?\")"
      ],
      "metadata": {
        "colab": {
          "base_uri": "https://localhost:8080/"
        },
        "id": "EH-EvVl7HL5k",
        "outputId": "b6a604fd-de61-4c54-e188-906dd2a4f768"
      },
      "execution_count": 29,
      "outputs": [
        {
          "output_type": "stream",
          "name": "stdout",
          "text": [
            "2\n"
          ]
        }
      ]
    }
  ]
}